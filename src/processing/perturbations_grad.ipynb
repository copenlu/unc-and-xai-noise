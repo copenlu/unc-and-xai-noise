{
 "cells": [
  {
   "cell_type": "code",
   "execution_count": 6,
   "metadata": {},
   "outputs": [],
   "source": [
    "from perturbation_utils import *\n",
    "from datasets import Dataset, load_from_disk, DatasetDict\n",
    "import json\n"
   ]
  },
  {
   "cell_type": "code",
   "execution_count": 7,
   "metadata": {},
   "outputs": [],
   "source": [
    "MODEL = 'bert'\n",
    "DATA = 'hatexplain_neutral'"
   ]
  },
  {
   "cell_type": "code",
   "execution_count": 8,
   "metadata": {},
   "outputs": [],
   "source": [
    "from_path_dataset = f\"./Data/Clean/{DATA}\"\n",
    "\n",
    "\n",
    "dataset = load_from_disk(from_path_dataset)['test'] #[:250] #['test']\n",
    "# dataset = Dataset.from_dict(dataset)\n",
    "\n",
    "# annos_file = f\"./Hotflip/{MODEL}-{DATA}.json\"\n",
    "\n",
    "# with open(annos_file) as json_file:\n",
    "#     annos = json.load(json_file)\n",
    "\n",
    "load_twitter_ids(dataset)\n",
    "load_gradients(MODEL, DATA)\n"
   ]
  },
  {
   "cell_type": "code",
   "execution_count": 9,
   "metadata": {},
   "outputs": [
    {
     "name": "stderr",
     "output_type": "stream",
     "text": [
      "                                                             \r"
     ]
    },
    {
     "ename": "ValueError",
     "evalue": "operands could not be broadcast together with shapes (18,) () (19,) ",
     "output_type": "error",
     "traceback": [
      "\u001b[0;31m---------------------------------------------------------------------------\u001b[0m",
      "\u001b[0;31mValueError\u001b[0m                                Traceback (most recent call last)",
      "\u001b[1;32m/home/fvd442/project/noise-paper/perturbations_grad.ipynb Cell 4\u001b[0m line \u001b[0;36m1\n\u001b[0;32m----> <a href='vscode-notebook-cell://ssh-remote%2Bhendrix/home/fvd442/project/noise-paper/perturbations_grad.ipynb#W3sdnNjb2RlLXJlbW90ZQ%3D%3D?line=0'>1</a>\u001b[0m new_dataset \u001b[39m=\u001b[39m dataset\u001b[39m.\u001b[39;49mmap(insert_gradient_noise)\n\u001b[1;32m      <a href='vscode-notebook-cell://ssh-remote%2Bhendrix/home/fvd442/project/noise-paper/perturbations_grad.ipynb#W3sdnNjb2RlLXJlbW90ZQ%3D%3D?line=1'>2</a>\u001b[0m new_dataset\n",
      "File \u001b[0;32m~/anaconda3/envs/noise-paper/lib/python3.9/site-packages/datasets/arrow_dataset.py:580\u001b[0m, in \u001b[0;36mtransmit_tasks.<locals>.wrapper\u001b[0;34m(*args, **kwargs)\u001b[0m\n\u001b[1;32m    578\u001b[0m     \u001b[39mself\u001b[39m: \u001b[39m\"\u001b[39m\u001b[39mDataset\u001b[39m\u001b[39m\"\u001b[39m \u001b[39m=\u001b[39m kwargs\u001b[39m.\u001b[39mpop(\u001b[39m\"\u001b[39m\u001b[39mself\u001b[39m\u001b[39m\"\u001b[39m)\n\u001b[1;32m    579\u001b[0m \u001b[39m# apply actual function\u001b[39;00m\n\u001b[0;32m--> 580\u001b[0m out: Union[\u001b[39m\"\u001b[39m\u001b[39mDataset\u001b[39m\u001b[39m\"\u001b[39m, \u001b[39m\"\u001b[39m\u001b[39mDatasetDict\u001b[39m\u001b[39m\"\u001b[39m] \u001b[39m=\u001b[39m func(\u001b[39mself\u001b[39;49m, \u001b[39m*\u001b[39;49margs, \u001b[39m*\u001b[39;49m\u001b[39m*\u001b[39;49mkwargs)\n\u001b[1;32m    581\u001b[0m datasets: List[\u001b[39m\"\u001b[39m\u001b[39mDataset\u001b[39m\u001b[39m\"\u001b[39m] \u001b[39m=\u001b[39m \u001b[39mlist\u001b[39m(out\u001b[39m.\u001b[39mvalues()) \u001b[39mif\u001b[39;00m \u001b[39misinstance\u001b[39m(out, \u001b[39mdict\u001b[39m) \u001b[39melse\u001b[39;00m [out]\n\u001b[1;32m    582\u001b[0m \u001b[39mfor\u001b[39;00m dataset \u001b[39min\u001b[39;00m datasets:\n\u001b[1;32m    583\u001b[0m     \u001b[39m# Remove task templates if a column mapping of the template is no longer valid\u001b[39;00m\n",
      "File \u001b[0;32m~/anaconda3/envs/noise-paper/lib/python3.9/site-packages/datasets/arrow_dataset.py:545\u001b[0m, in \u001b[0;36mtransmit_format.<locals>.wrapper\u001b[0;34m(*args, **kwargs)\u001b[0m\n\u001b[1;32m    538\u001b[0m self_format \u001b[39m=\u001b[39m {\n\u001b[1;32m    539\u001b[0m     \u001b[39m\"\u001b[39m\u001b[39mtype\u001b[39m\u001b[39m\"\u001b[39m: \u001b[39mself\u001b[39m\u001b[39m.\u001b[39m_format_type,\n\u001b[1;32m    540\u001b[0m     \u001b[39m\"\u001b[39m\u001b[39mformat_kwargs\u001b[39m\u001b[39m\"\u001b[39m: \u001b[39mself\u001b[39m\u001b[39m.\u001b[39m_format_kwargs,\n\u001b[1;32m    541\u001b[0m     \u001b[39m\"\u001b[39m\u001b[39mcolumns\u001b[39m\u001b[39m\"\u001b[39m: \u001b[39mself\u001b[39m\u001b[39m.\u001b[39m_format_columns,\n\u001b[1;32m    542\u001b[0m     \u001b[39m\"\u001b[39m\u001b[39moutput_all_columns\u001b[39m\u001b[39m\"\u001b[39m: \u001b[39mself\u001b[39m\u001b[39m.\u001b[39m_output_all_columns,\n\u001b[1;32m    543\u001b[0m }\n\u001b[1;32m    544\u001b[0m \u001b[39m# apply actual function\u001b[39;00m\n\u001b[0;32m--> 545\u001b[0m out: Union[\u001b[39m\"\u001b[39m\u001b[39mDataset\u001b[39m\u001b[39m\"\u001b[39m, \u001b[39m\"\u001b[39m\u001b[39mDatasetDict\u001b[39m\u001b[39m\"\u001b[39m] \u001b[39m=\u001b[39m func(\u001b[39mself\u001b[39;49m, \u001b[39m*\u001b[39;49margs, \u001b[39m*\u001b[39;49m\u001b[39m*\u001b[39;49mkwargs)\n\u001b[1;32m    546\u001b[0m datasets: List[\u001b[39m\"\u001b[39m\u001b[39mDataset\u001b[39m\u001b[39m\"\u001b[39m] \u001b[39m=\u001b[39m \u001b[39mlist\u001b[39m(out\u001b[39m.\u001b[39mvalues()) \u001b[39mif\u001b[39;00m \u001b[39misinstance\u001b[39m(out, \u001b[39mdict\u001b[39m) \u001b[39melse\u001b[39;00m [out]\n\u001b[1;32m    547\u001b[0m \u001b[39m# re-apply format to the output\u001b[39;00m\n",
      "File \u001b[0;32m~/anaconda3/envs/noise-paper/lib/python3.9/site-packages/datasets/arrow_dataset.py:3087\u001b[0m, in \u001b[0;36mDataset.map\u001b[0;34m(self, function, with_indices, with_rank, input_columns, batched, batch_size, drop_last_batch, remove_columns, keep_in_memory, load_from_cache_file, cache_file_name, writer_batch_size, features, disable_nullable, fn_kwargs, num_proc, suffix_template, new_fingerprint, desc)\u001b[0m\n\u001b[1;32m   3079\u001b[0m \u001b[39mif\u001b[39;00m transformed_dataset \u001b[39mis\u001b[39;00m \u001b[39mNone\u001b[39;00m:\n\u001b[1;32m   3080\u001b[0m     \u001b[39mwith\u001b[39;00m logging\u001b[39m.\u001b[39mtqdm(\n\u001b[1;32m   3081\u001b[0m         disable\u001b[39m=\u001b[39m\u001b[39mnot\u001b[39;00m logging\u001b[39m.\u001b[39mis_progress_bar_enabled(),\n\u001b[1;32m   3082\u001b[0m         unit\u001b[39m=\u001b[39m\u001b[39m\"\u001b[39m\u001b[39m examples\u001b[39m\u001b[39m\"\u001b[39m,\n\u001b[0;32m   (...)\u001b[0m\n\u001b[1;32m   3085\u001b[0m         desc\u001b[39m=\u001b[39mdesc \u001b[39mor\u001b[39;00m \u001b[39m\"\u001b[39m\u001b[39mMap\u001b[39m\u001b[39m\"\u001b[39m,\n\u001b[1;32m   3086\u001b[0m     ) \u001b[39mas\u001b[39;00m pbar:\n\u001b[0;32m-> 3087\u001b[0m         \u001b[39mfor\u001b[39;00m rank, done, content \u001b[39min\u001b[39;00m Dataset\u001b[39m.\u001b[39m_map_single(\u001b[39m*\u001b[39m\u001b[39m*\u001b[39mdataset_kwargs):\n\u001b[1;32m   3088\u001b[0m             \u001b[39mif\u001b[39;00m done:\n\u001b[1;32m   3089\u001b[0m                 shards_done \u001b[39m+\u001b[39m\u001b[39m=\u001b[39m \u001b[39m1\u001b[39m\n",
      "File \u001b[0;32m~/anaconda3/envs/noise-paper/lib/python3.9/site-packages/datasets/arrow_dataset.py:3441\u001b[0m, in \u001b[0;36mDataset._map_single\u001b[0;34m(shard, function, with_indices, with_rank, input_columns, batched, batch_size, drop_last_batch, remove_columns, keep_in_memory, cache_file_name, writer_batch_size, features, disable_nullable, fn_kwargs, new_fingerprint, rank, offset)\u001b[0m\n\u001b[1;32m   3439\u001b[0m _time \u001b[39m=\u001b[39m time\u001b[39m.\u001b[39mtime()\n\u001b[1;32m   3440\u001b[0m \u001b[39mfor\u001b[39;00m i, example \u001b[39min\u001b[39;00m shard_iterable:\n\u001b[0;32m-> 3441\u001b[0m     example \u001b[39m=\u001b[39m apply_function_on_filtered_inputs(example, i, offset\u001b[39m=\u001b[39;49moffset)\n\u001b[1;32m   3442\u001b[0m     \u001b[39mif\u001b[39;00m update_data:\n\u001b[1;32m   3443\u001b[0m         \u001b[39mif\u001b[39;00m i \u001b[39m==\u001b[39m \u001b[39m0\u001b[39m:\n",
      "File \u001b[0;32m~/anaconda3/envs/noise-paper/lib/python3.9/site-packages/datasets/arrow_dataset.py:3344\u001b[0m, in \u001b[0;36mDataset._map_single.<locals>.apply_function_on_filtered_inputs\u001b[0;34m(pa_inputs, indices, check_same_num_examples, offset)\u001b[0m\n\u001b[1;32m   3342\u001b[0m \u001b[39mif\u001b[39;00m with_rank:\n\u001b[1;32m   3343\u001b[0m     additional_args \u001b[39m+\u001b[39m\u001b[39m=\u001b[39m (rank,)\n\u001b[0;32m-> 3344\u001b[0m processed_inputs \u001b[39m=\u001b[39m function(\u001b[39m*\u001b[39;49mfn_args, \u001b[39m*\u001b[39;49madditional_args, \u001b[39m*\u001b[39;49m\u001b[39m*\u001b[39;49mfn_kwargs)\n\u001b[1;32m   3345\u001b[0m \u001b[39mif\u001b[39;00m \u001b[39misinstance\u001b[39m(processed_inputs, LazyDict):\n\u001b[1;32m   3346\u001b[0m     processed_inputs \u001b[39m=\u001b[39m {\n\u001b[1;32m   3347\u001b[0m         k: v \u001b[39mfor\u001b[39;00m k, v \u001b[39min\u001b[39;00m processed_inputs\u001b[39m.\u001b[39mdata\u001b[39m.\u001b[39mitems() \u001b[39mif\u001b[39;00m k \u001b[39mnot\u001b[39;00m \u001b[39min\u001b[39;00m processed_inputs\u001b[39m.\u001b[39mkeys_to_format\n\u001b[1;32m   3348\u001b[0m     }\n",
      "File \u001b[0;32m~/project/noise-paper/perturbation_utils.py:677\u001b[0m, in \u001b[0;36minsert_gradient_noise\u001b[0;34m(example)\u001b[0m\n\u001b[1;32m    674\u001b[0m ind \u001b[39m=\u001b[39m example[\u001b[39m'\u001b[39m\u001b[39mindex\u001b[39m\u001b[39m'\u001b[39m]\n\u001b[1;32m    675\u001b[0m anno \u001b[39m=\u001b[39m annos[\u001b[39mstr\u001b[39m(ind)]\n\u001b[0;32m--> 677\u001b[0m noise \u001b[39m=\u001b[39m create_gradient_masks(tokens, anno, model)\n\u001b[1;32m    678\u001b[0m \u001b[39mreturn\u001b[39;00m example \u001b[39m|\u001b[39m noise\n",
      "File \u001b[0;32m~/project/noise-paper/perturbation_utils.py:656\u001b[0m, in \u001b[0;36mcreate_gradient_masks\u001b[0;34m(example, anno, MODEL)\u001b[0m\n\u001b[1;32m    654\u001b[0m mask \u001b[39m=\u001b[39m [\u001b[39mTrue\u001b[39;00m \u001b[39mif\u001b[39;00m ele \u001b[39min\u001b[39;00m anno[\u001b[39m-\u001b[39m\u001b[39mround\u001b[39m(\u001b[39mlen\u001b[39m(anno)\u001b[39m*\u001b[39mprop):] \u001b[39melse\u001b[39;00m \u001b[39mFalse\u001b[39;00m \u001b[39mfor\u001b[39;00m ele \u001b[39min\u001b[39;00m np\u001b[39m.\u001b[39marange(\u001b[39mlen\u001b[39m(anno))]\n\u001b[1;32m    655\u001b[0m \u001b[39m#mask = [True if ele in anno[:round(len(anno)*prop)] else False for ele in np.arange(len(anno))]\u001b[39;00m\n\u001b[0;32m--> 656\u001b[0m noisy[\u001b[39mf\u001b[39m\u001b[39m'\u001b[39m\u001b[39mgradient-\u001b[39m\u001b[39m{\u001b[39;00mMODEL\u001b[39m}\u001b[39;00m\u001b[39m_token_\u001b[39m\u001b[39m{\u001b[39;00mprop\u001b[39m*\u001b[39m\u001b[39m100\u001b[39m\u001b[39m:\u001b[39;00m\u001b[39m02.0f\u001b[39m\u001b[39m}\u001b[39;00m\u001b[39m'\u001b[39m] \u001b[39m=\u001b[39m \u001b[39m'\u001b[39m\u001b[39m \u001b[39m\u001b[39m'\u001b[39m\u001b[39m.\u001b[39mjoin(np\u001b[39m.\u001b[39;49mwhere(mask, \u001b[39m'\u001b[39;49m\u001b[39m{TOKEN}\u001b[39;49;00m\u001b[39m'\u001b[39;49m, example))  \n\u001b[1;32m    657\u001b[0m noisy[\u001b[39mf\u001b[39m\u001b[39m'\u001b[39m\u001b[39mgradient-\u001b[39m\u001b[39m{\u001b[39;00mMODEL\u001b[39m}\u001b[39;00m\u001b[39m_charswap_\u001b[39m\u001b[39m{\u001b[39;00mprop\u001b[39m*\u001b[39m\u001b[39m100\u001b[39m\u001b[39m:\u001b[39;00m\u001b[39m02.0f\u001b[39m\u001b[39m}\u001b[39;00m\u001b[39m'\u001b[39m] \u001b[39m=\u001b[39m \u001b[39m'\u001b[39m\u001b[39m \u001b[39m\u001b[39m'\u001b[39m\u001b[39m.\u001b[39mjoin(np\u001b[39m.\u001b[39mwhere(mask, random_charswap(example), example))   \u001b[39m#' '.join(np.where(mask,  , example))     \u001b[39;00m\n\u001b[1;32m    658\u001b[0m noisy[\u001b[39mf\u001b[39m\u001b[39m'\u001b[39m\u001b[39mgradient-\u001b[39m\u001b[39m{\u001b[39;00mMODEL\u001b[39m}\u001b[39;00m\u001b[39m_synonym_\u001b[39m\u001b[39m{\u001b[39;00mprop\u001b[39m*\u001b[39m\u001b[39m100\u001b[39m\u001b[39m:\u001b[39;00m\u001b[39m02.0f\u001b[39m\u001b[39m}\u001b[39;00m\u001b[39m'\u001b[39m] \u001b[39m=\u001b[39m \u001b[39m'\u001b[39m\u001b[39m \u001b[39m\u001b[39m'\u001b[39m\u001b[39m.\u001b[39mjoin(np\u001b[39m.\u001b[39mwhere(mask, wordswap(example), example))   \u001b[39m#' '.join(np.where(mask, wordswap(example) , example))\u001b[39;00m\n",
      "\u001b[0;31mValueError\u001b[0m: operands could not be broadcast together with shapes (18,) () (19,) "
     ]
    }
   ],
   "source": [
    "new_dataset = dataset.map(insert_gradient_noise)\n",
    "new_dataset"
   ]
  },
  {
   "cell_type": "markdown",
   "metadata": {},
   "source": [
    "## Debugging"
   ]
  },
  {
   "cell_type": "code",
   "execution_count": 10,
   "metadata": {},
   "outputs": [
    {
     "name": "stdout",
     "output_type": "stream",
     "text": [
      "> \u001b[0;32m/home/fvd442/project/noise-paper/perturbation_utils.py\u001b[0m(656)\u001b[0;36mcreate_gradient_masks\u001b[0;34m()\u001b[0m\n",
      "\u001b[0;32m    654 \u001b[0;31m        \u001b[0mmask\u001b[0m \u001b[0;34m=\u001b[0m \u001b[0;34m[\u001b[0m\u001b[0;32mTrue\u001b[0m \u001b[0;32mif\u001b[0m \u001b[0mele\u001b[0m \u001b[0;32min\u001b[0m \u001b[0manno\u001b[0m\u001b[0;34m[\u001b[0m\u001b[0;34m-\u001b[0m\u001b[0mround\u001b[0m\u001b[0;34m(\u001b[0m\u001b[0mlen\u001b[0m\u001b[0;34m(\u001b[0m\u001b[0manno\u001b[0m\u001b[0;34m)\u001b[0m\u001b[0;34m*\u001b[0m\u001b[0mprop\u001b[0m\u001b[0;34m)\u001b[0m\u001b[0;34m:\u001b[0m\u001b[0;34m]\u001b[0m \u001b[0;32melse\u001b[0m \u001b[0;32mFalse\u001b[0m \u001b[0;32mfor\u001b[0m \u001b[0mele\u001b[0m \u001b[0;32min\u001b[0m \u001b[0mnp\u001b[0m\u001b[0;34m.\u001b[0m\u001b[0marange\u001b[0m\u001b[0;34m(\u001b[0m\u001b[0mlen\u001b[0m\u001b[0;34m(\u001b[0m\u001b[0manno\u001b[0m\u001b[0;34m)\u001b[0m\u001b[0;34m)\u001b[0m\u001b[0;34m]\u001b[0m\u001b[0;34m\u001b[0m\u001b[0;34m\u001b[0m\u001b[0m\n",
      "\u001b[0m\u001b[0;32m    655 \u001b[0;31m        \u001b[0;31m#mask = [True if ele in anno[:round(len(anno)*prop)] else False for ele in np.arange(len(anno))]\u001b[0m\u001b[0;34m\u001b[0m\u001b[0;34m\u001b[0m\u001b[0m\n",
      "\u001b[0m\u001b[0;32m--> 656 \u001b[0;31m        \u001b[0mnoisy\u001b[0m\u001b[0;34m[\u001b[0m\u001b[0;34mf'gradient-{MODEL}_token_{prop*100:02.0f}'\u001b[0m\u001b[0;34m]\u001b[0m \u001b[0;34m=\u001b[0m \u001b[0;34m' '\u001b[0m\u001b[0;34m.\u001b[0m\u001b[0mjoin\u001b[0m\u001b[0;34m(\u001b[0m\u001b[0mnp\u001b[0m\u001b[0;34m.\u001b[0m\u001b[0mwhere\u001b[0m\u001b[0;34m(\u001b[0m\u001b[0mmask\u001b[0m\u001b[0;34m,\u001b[0m \u001b[0;34m'{TOKEN}'\u001b[0m\u001b[0;34m,\u001b[0m \u001b[0mexample\u001b[0m\u001b[0;34m)\u001b[0m\u001b[0;34m)\u001b[0m\u001b[0;34m\u001b[0m\u001b[0;34m\u001b[0m\u001b[0m\n",
      "\u001b[0m\u001b[0;32m    657 \u001b[0;31m        \u001b[0mnoisy\u001b[0m\u001b[0;34m[\u001b[0m\u001b[0;34mf'gradient-{MODEL}_charswap_{prop*100:02.0f}'\u001b[0m\u001b[0;34m]\u001b[0m \u001b[0;34m=\u001b[0m \u001b[0;34m' '\u001b[0m\u001b[0;34m.\u001b[0m\u001b[0mjoin\u001b[0m\u001b[0;34m(\u001b[0m\u001b[0mnp\u001b[0m\u001b[0;34m.\u001b[0m\u001b[0mwhere\u001b[0m\u001b[0;34m(\u001b[0m\u001b[0mmask\u001b[0m\u001b[0;34m,\u001b[0m \u001b[0mrandom_charswap\u001b[0m\u001b[0;34m(\u001b[0m\u001b[0mexample\u001b[0m\u001b[0;34m)\u001b[0m\u001b[0;34m,\u001b[0m \u001b[0mexample\u001b[0m\u001b[0;34m)\u001b[0m\u001b[0;34m)\u001b[0m   \u001b[0;31m#' '.join(np.where(mask,  , example))\u001b[0m\u001b[0;34m\u001b[0m\u001b[0;34m\u001b[0m\u001b[0m\n",
      "\u001b[0m\u001b[0;32m    658 \u001b[0;31m        \u001b[0mnoisy\u001b[0m\u001b[0;34m[\u001b[0m\u001b[0;34mf'gradient-{MODEL}_synonym_{prop*100:02.0f}'\u001b[0m\u001b[0;34m]\u001b[0m \u001b[0;34m=\u001b[0m \u001b[0;34m' '\u001b[0m\u001b[0;34m.\u001b[0m\u001b[0mjoin\u001b[0m\u001b[0;34m(\u001b[0m\u001b[0mnp\u001b[0m\u001b[0;34m.\u001b[0m\u001b[0mwhere\u001b[0m\u001b[0;34m(\u001b[0m\u001b[0mmask\u001b[0m\u001b[0;34m,\u001b[0m \u001b[0mwordswap\u001b[0m\u001b[0;34m(\u001b[0m\u001b[0mexample\u001b[0m\u001b[0;34m)\u001b[0m\u001b[0;34m,\u001b[0m \u001b[0mexample\u001b[0m\u001b[0;34m)\u001b[0m\u001b[0;34m)\u001b[0m   \u001b[0;31m#' '.join(np.where(mask, wordswap(example) , example))\u001b[0m\u001b[0;34m\u001b[0m\u001b[0;34m\u001b[0m\u001b[0m\n",
      "\u001b[0m\n",
      "[False, False, False, False, False, False, False, False, False, False, False, True, False, False, False, False, False, False]\n",
      "['<user>', '😂', '😂', 'tell', 'me', 'about', 'it', 'they', 'have', 'been', 'co', 'opted', 'by', 'immigrants', 'that', 'why', '🤷', '♀', '️']\n"
     ]
    }
   ],
   "source": [
    "%debug"
   ]
  },
  {
   "cell_type": "code",
   "execution_count": 12,
   "metadata": {},
   "outputs": [],
   "source": [
    "def create_gradient_masks(example, anno, MODEL):\n",
    "    noisy = {}\n",
    "\n",
    "    for prop in [0.25,0.5,0.7,0.8,0.9,0.95]:\n",
    "        mask = [True if ele in anno[-round(len(anno)*prop):] else False for ele in np.arange(len(anno))]\n",
    "        #mask = [True if ele in anno[:round(len(anno)*prop)] else False for ele in np.arange(len(anno))]\n",
    "        noisy[f'gradient-{MODEL}_token_{prop*100:2.0f}'] = ' '.join(np.where(mask, '{TOKEN}', example))  \n",
    "        noisy[f'gradient-{MODEL}_charswap_{prop*100:2.0f}'] = ' '.join(np.where(mask, charswap(example), example))   #' '.join(np.where(mask,  , example))     \n",
    "        noisy[f'gradient-{MODEL}_synonym_{prop*100:2.0f}'] = ' '.join(np.where(mask, wordswap(example), example))   #' '.join(np.where(mask, wordswap(example) , example))    \n",
    "        noisy[f'gradient-{MODEL}_PATTERN_{prop*100:2.0f}'] = ' '.join(mask)\n",
    "    \n",
    "    return noisy"
   ]
  },
  {
   "cell_type": "code",
   "execution_count": 13,
   "metadata": {},
   "outputs": [],
   "source": [
    "def insert_gradient_noise(example):\n",
    "    global pos_tags\n",
    "    global annos\n",
    "    global MODEL\n",
    "    nltk_tokens = nltk.word_tokenize(example['text'])\n",
    "    pos_tags = [val[1] for val in nltk.pos_tag(nltk_tokens)]\n",
    "    \n",
    "    tokens = example['text'].split()\n",
    "    ind = example['index']\n",
    "    anno = annos[str(ind)]\n",
    "    \n",
    "    noise = create_gradient_masks(tokens, anno, MODEL)\n",
    "    return example | noise"
   ]
  },
  {
   "cell_type": "code",
   "execution_count": 14,
   "metadata": {},
   "outputs": [],
   "source": [
    "def wordswap(iterable):\n",
    "    global pos_tags\n",
    "    global NO_MATCH\n",
    "    global no_match_counter\n",
    "    global word_counter\n",
    "    out = []\n",
    "    for i,x in enumerate(iterable):\n",
    "        word_counter += 1\n",
    "        new = find_replacement(x, pos_tags[i])\n",
    "        if new == x:\n",
    "            NO_MATCH.add((x, pos_tags[i]))\n",
    "            no_match_counter += 1\n",
    "        out.append(new)\n",
    "                \n",
    "    return out"
   ]
  },
  {
   "cell_type": "code",
   "execution_count": 16,
   "metadata": {},
   "outputs": [
    {
     "data": {
      "text/plain": [
       "Dataset({\n",
       "    features: ['label', 'text', 'annotations', 'index', 'gradient-bert_token_25', 'gradient-bert_charswap_25', 'gradient-bert_synonym_25', 'gradient-bert_token_50', 'gradient-bert_charswap_50', 'gradient-bert_synonym_50', 'gradient-bert_token_70', 'gradient-bert_charswap_70', 'gradient-bert_synonym_70', 'gradient-bert_token_80', 'gradient-bert_charswap_80', 'gradient-bert_synonym_80', 'gradient-bert_token_90', 'gradient-bert_charswap_90', 'gradient-bert_synonym_90', 'gradient-bert_token_95', 'gradient-bert_charswap_95', 'gradient-bert_synonym_95'],\n",
       "    num_rows: 63\n",
       "})"
      ]
     },
     "execution_count": 16,
     "metadata": {},
     "output_type": "execute_result"
    }
   ],
   "source": [
    "new_dataset"
   ]
  },
  {
   "cell_type": "code",
   "execution_count": 17,
   "metadata": {},
   "outputs": [
    {
     "data": {
      "text/plain": [
       "{'label': 0.0,\n",
       " 'text': 'there are simply too many ideas floating around -- part farce part sliding doors part pop video -- and yet failing to exploit them',\n",
       " 'annotations': '0.0 0.0 0.0 -0.3333 -0.3333 0.0 0.0 0.0 0.0 -0.3333 -0.3333 -0.3333 -0.3333 -0.3333 -0.3333 -0.3333 -0.3333 0.0 0.0 0.0 -1.0 -0.3333 -0.3333 -0.3333',\n",
       " 'index': 121,\n",
       " 'gradient-bert_token_25': '{TOKEN} are simply too many {TOKEN} {TOKEN} {TOKEN} {TOKEN} {TOKEN} farce part sliding doors part pop video -- and yet failing to exploit them',\n",
       " 'gradient-bert_charswap_25': 'therBe are simply too many Mideas flYoating aroundH H-- partT farce part sliding doors part pop video -- and yet failing to exploit them',\n",
       " 'gradient-bert_synonym_25': 'in-that-respect are simply too many idea float some , role farce part sliding doors part pop video -- and yet failing to exploit them',\n",
       " 'gradient-bert_token_50': '{TOKEN} {TOKEN} simply too many {TOKEN} {TOKEN} {TOKEN} {TOKEN} {TOKEN} {TOKEN} {TOKEN} {TOKEN} {TOKEN} part pop video -- and yet failing to {TOKEN} them',\n",
       " 'gradient-bert_charswap_50': 'Othere arez simply too many iXdeas Sfloating arounAd -X- parte fAarce pNart slidinZg Sdoors part pop video -- and yet failing to eaxploit them',\n",
       " 'gradient-bert_synonym_50': 'in-that-location be simply too many idea float round : role forcemeat theatrical-role slide door part pop video -- and yet failing to work them',\n",
       " 'gradient-bert_token_70': '{TOKEN} {TOKEN} simply too {TOKEN} {TOKEN} {TOKEN} {TOKEN} {TOKEN} {TOKEN} {TOKEN} {TOKEN} {TOKEN} {TOKEN} {TOKEN} {TOKEN} {TOKEN} -- and yet failing to {TOKEN} {TOKEN}',\n",
       " 'gradient-bert_charswap_70': 'theFre atre simply too manya iBdeas fgloating oaround --w pyart fdarce Gpart slidLing bdoors poart pfop vidPeo -- and yet failing to exvploit thlem',\n",
       " 'gradient-bert_synonym_70': 'at-that-place be simply too several theme float approx : voice forcemeat constituent slither door component pour-down picture -- and yet failing to work them',\n",
       " 'gradient-bert_token_80': '{TOKEN} {TOKEN} {TOKEN} too {TOKEN} {TOKEN} {TOKEN} {TOKEN} {TOKEN} {TOKEN} {TOKEN} {TOKEN} {TOKEN} {TOKEN} {TOKEN} {TOKEN} {TOKEN} {TOKEN} and yet failing to {TOKEN} {TOKEN}',\n",
       " 'gradient-bert_charswap_80': 'theren arle simpMly too Wmany ideaRs floatiSng aroundR -A- Upart farcbe paVrt slidinqg dooJrs fpart popx Ovideo -G- and yet failing to ebxploit thcem',\n",
       " 'gradient-bert_synonym_80': 'at-that-place live only too multiple mind drift round , section farce-comedy portions slue doorway percentage kill tv , and yet failing to utilise them',\n",
       " 'gradient-bert_token_90': '{TOKEN} {TOKEN} {TOKEN} {TOKEN} {TOKEN} {TOKEN} {TOKEN} {TOKEN} {TOKEN} {TOKEN} {TOKEN} {TOKEN} {TOKEN} {TOKEN} {TOKEN} {TOKEN} {TOKEN} {TOKEN} {TOKEN} yet failing {TOKEN} {TOKEN} {TOKEN}',\n",
       " 'gradient-bert_charswap_90': 'thereH aren simpely Rtoo manyV idemas floaDting Iaround --f Upart farceX spart seliding doorrs pvart ptop videbo j-- Pand yet failing toq exploQit dthem',\n",
       " 'gradient-bert_synonym_90': 'at-that-place comprise just also myriad approximation float close-to : portions travesty role slide threshold share pop-up television : and yet failing to overwork them',\n",
       " 'gradient-bert_token_95': '{TOKEN} {TOKEN} {TOKEN} {TOKEN} {TOKEN} {TOKEN} {TOKEN} {TOKEN} {TOKEN} {TOKEN} {TOKEN} {TOKEN} {TOKEN} {TOKEN} {TOKEN} {TOKEN} {TOKEN} {TOKEN} {TOKEN} {TOKEN} failing {TOKEN} {TOKEN} {TOKEN}',\n",
       " 'gradient-bert_charswap_95': 'therme arez simpaly Ftoo mauny ideasR floatiFng aroundc y-- parSt farOce epart Msliding doorsS paIrt poxp vidleo -t- yand yete failing toz explJoit thfem',\n",
       " 'gradient-bert_synonym_95': 'thither be but excessively several idea float close-to - voice travesty component-part slide room-access theatrical-role bolt-down tv - and nevertheless failing to work them'}"
      ]
     },
     "execution_count": 17,
     "metadata": {},
     "output_type": "execute_result"
    }
   ],
   "source": [
    "new_dataset[19]"
   ]
  },
  {
   "cell_type": "code",
   "execution_count": null,
   "metadata": {},
   "outputs": [],
   "source": []
  }
 ],
 "metadata": {
  "kernelspec": {
   "display_name": "noise-paper",
   "language": "python",
   "name": "python3"
  },
  "language_info": {
   "codemirror_mode": {
    "name": "ipython",
    "version": 3
   },
   "file_extension": ".py",
   "mimetype": "text/x-python",
   "name": "python",
   "nbconvert_exporter": "python",
   "pygments_lexer": "ipython3",
   "version": "3.9.16"
  },
  "orig_nbformat": 4
 },
 "nbformat": 4,
 "nbformat_minor": 2
}
